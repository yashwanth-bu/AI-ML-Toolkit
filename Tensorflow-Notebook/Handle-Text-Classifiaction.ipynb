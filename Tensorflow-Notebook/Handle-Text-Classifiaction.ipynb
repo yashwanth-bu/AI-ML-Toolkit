{
 "cells": [
  {
   "cell_type": "code",
   "execution_count": 1,
   "id": "41605ab2",
   "metadata": {},
   "outputs": [
    {
     "data": {
      "text/html": [
       "<div>\n",
       "<style scoped>\n",
       "    .dataframe tbody tr th:only-of-type {\n",
       "        vertical-align: middle;\n",
       "    }\n",
       "\n",
       "    .dataframe tbody tr th {\n",
       "        vertical-align: top;\n",
       "    }\n",
       "\n",
       "    .dataframe thead th {\n",
       "        text-align: right;\n",
       "    }\n",
       "</style>\n",
       "<table border=\"1\" class=\"dataframe\">\n",
       "  <thead>\n",
       "    <tr style=\"text-align: right;\">\n",
       "      <th></th>\n",
       "      <th>text</th>\n",
       "      <th>label</th>\n",
       "    </tr>\n",
       "  </thead>\n",
       "  <tbody>\n",
       "    <tr>\n",
       "      <th>0</th>\n",
       "      <td>I love this movie, it’s fantastic!</td>\n",
       "      <td>1</td>\n",
       "    </tr>\n",
       "    <tr>\n",
       "      <th>1</th>\n",
       "      <td>Absolutely wonderful acting and plot.</td>\n",
       "      <td>1</td>\n",
       "    </tr>\n",
       "    <tr>\n",
       "      <th>2</th>\n",
       "      <td>I hated the ending, it was so bad.</td>\n",
       "      <td>0</td>\n",
       "    </tr>\n",
       "    <tr>\n",
       "      <th>3</th>\n",
       "      <td>Terrible movie. Waste of time.</td>\n",
       "      <td>0</td>\n",
       "    </tr>\n",
       "    <tr>\n",
       "      <th>4</th>\n",
       "      <td>The story was okay, but acting was great.</td>\n",
       "      <td>1</td>\n",
       "    </tr>\n",
       "  </tbody>\n",
       "</table>\n",
       "</div>"
      ],
      "text/plain": [
       "                                        text  label\n",
       "0         I love this movie, it’s fantastic!      1\n",
       "1      Absolutely wonderful acting and plot.      1\n",
       "2         I hated the ending, it was so bad.      0\n",
       "3             Terrible movie. Waste of time.      0\n",
       "4  The story was okay, but acting was great.      1"
      ]
     },
     "execution_count": 1,
     "metadata": {},
     "output_type": "execute_result"
    }
   ],
   "source": [
    "import pandas as pd\n",
    "df = pd.read_csv('movie-reviews-200.csv')\n",
    "df.head()"
   ]
  },
  {
   "cell_type": "code",
   "execution_count": 2,
   "id": "3db96480",
   "metadata": {},
   "outputs": [],
   "source": [
    "texts = df['text'].values\n",
    "target = df['label'].values"
   ]
  },
  {
   "cell_type": "code",
   "execution_count": 3,
   "id": "974ba84c",
   "metadata": {},
   "outputs": [],
   "source": [
    "import spacy\n",
    "\n",
    "nlp_model = spacy.load(\"en_core_web_sm\")\n",
    "\n",
    "def spacy_tokenizer(text):\n",
    "    \n",
    "    doc = nlp_model(text)\n",
    "    tokens = [ token.lemma_.lower() for token in doc\n",
    "        if (token.is_alpha and not token.like_num and not token.is_punct and not token.is_space and not token.is_stop)\n",
    "    ]\n",
    "    return tokens"
   ]
  },
  {
   "cell_type": "code",
   "execution_count": 4,
   "id": "63dfef3b",
   "metadata": {},
   "outputs": [],
   "source": [
    "tokens = [spacy_tokenizer(sentence) for sentence in texts]\n",
    "all_words = sorted(set(word for item in tokens for word in item))\n",
    "vocab_dir = {word: idx+2 for idx, word in enumerate(all_words)}\n",
    "vocab_dir['<PAD>'] = 0\n",
    "vocab_dir['<UNK>'] = 1"
   ]
  },
  {
   "cell_type": "code",
   "execution_count": 5,
   "id": "63e5074d",
   "metadata": {},
   "outputs": [],
   "source": [
    "def text_to_sequence(token_bank, vocab_bank):\n",
    "    return [[vocab_bank.get(word, vocab_bank['<PAD>']) for word in item] for item in token_bank]"
   ]
  },
  {
   "cell_type": "code",
   "execution_count": 6,
   "id": "79bf5feb",
   "metadata": {},
   "outputs": [],
   "source": [
    "from tensorflow.keras.preprocessing.sequence import pad_sequences\n",
    "text_sequence = text_to_sequence(tokens, vocab_dir)\n",
    "padded_text = pad_sequences(text_sequence, padding='post') "
   ]
  },
  {
   "cell_type": "code",
   "execution_count": 7,
   "id": "16d2e706",
   "metadata": {},
   "outputs": [],
   "source": [
    "from sklearn.model_selection import train_test_split\n",
    "\n",
    "X_train, X_test, y_train, y_test = train_test_split(\n",
    "    padded_text, target, test_size=0.2, random_state=42, stratify=target\n",
    ")"
   ]
  },
  {
   "cell_type": "markdown",
   "id": "25a5b02b",
   "metadata": {},
   "source": [
    "## <b>Binary Class Classificaton</b>"
   ]
  },
  {
   "cell_type": "code",
   "execution_count": 8,
   "id": "73d5b417",
   "metadata": {},
   "outputs": [],
   "source": [
    "import tensorflow as tf\n",
    "from tensorflow.keras.layers import Dense, Dropout, Embedding, Flatten\n",
    "from tensorflow.keras import Sequential\n",
    "from tqdm.keras import TqdmCallback\n",
    "from tensorflow.keras.metrics import AUC\n",
    "\n",
    "vocab_size = len(vocab_dir)\n",
    "embedding_dim = 100\n",
    "num_classes = len(set(target))\n",
    "\n",
    "model = Sequential([\n",
    "    Embedding(input_dim=vocab_size, output_dim=embedding_dim, mask_zero=True),\n",
    "    Flatten(),\n",
    "    Dense(128, activation='relu'),\n",
    "    Dropout(0.3),\n",
    "    Dense(64, activation='relu'),\n",
    "    Dropout(0.2),\n",
    "    Dense(32, activation='relu'),\n",
    "    Dense(1, activation='sigmoid')\n",
    "])\n",
    "\n",
    "model.compile(\n",
    "    optimizer='adam',\n",
    "    loss='binary_crossentropy',\n",
    "    metrics=['accuracy', AUC()] \n",
    ")"
   ]
  },
  {
   "cell_type": "code",
   "execution_count": 10,
   "id": "15748a49",
   "metadata": {},
   "outputs": [
    {
     "data": {
      "application/vnd.jupyter.widget-view+json": {
       "model_id": "90ed5fca812b4179a63b1e3cb47d28d9",
       "version_major": 2,
       "version_minor": 0
      },
      "text/plain": [
       "0epoch [00:00, ?epoch/s]"
      ]
     },
     "metadata": {},
     "output_type": "display_data"
    },
    {
     "data": {
      "application/vnd.jupyter.widget-view+json": {
       "model_id": "71e602e40dbe4f51afe0c178309b2bd4",
       "version_major": 2,
       "version_minor": 0
      },
      "text/plain": [
       "0batch [00:00, ?batch/s]"
      ]
     },
     "metadata": {},
     "output_type": "display_data"
    }
   ],
   "source": [
    "history = model.fit(\n",
    "    X_train, y_train,\n",
    "    epochs=50,              # increase the epochs to train model very well\n",
    "    verbose=0,              \n",
    "    batch_size=32,\n",
    "    validation_split=0.2,\n",
    "    callbacks=[TqdmCallback(verbose=1)]\n",
    ")"
   ]
  },
  {
   "cell_type": "code",
   "execution_count": 11,
   "id": "86925024",
   "metadata": {},
   "outputs": [
    {
     "name": "stdout",
     "output_type": "stream",
     "text": [
      "\u001b[1m2/2\u001b[0m \u001b[32m━━━━━━━━━━━━━━━━━━━━\u001b[0m\u001b[37m\u001b[0m \u001b[1m0s\u001b[0m 61ms/step - accuracy: 0.9199 - auc: 0.9481 - loss: 0.4707\n",
      "Loss : 0.51\n",
      "Accuracy Score (ACC): 0.91\n",
      "AUC Score: 0.94\n"
     ]
    }
   ],
   "source": [
    "loss, acc, auc = model.evaluate(X_test, y_test, verbose=1)\n",
    "\n",
    "print(f\"Loss : {loss:.2f}\")\n",
    "print(f\"Accuracy Score (ACC): {acc:.2f}\")\n",
    "print(f\"AUC Score: {auc:.2f}\")"
   ]
  },
  {
   "cell_type": "code",
   "execution_count": 12,
   "id": "c513917d",
   "metadata": {},
   "outputs": [
    {
     "name": "stdout",
     "output_type": "stream",
     "text": [
      "\u001b[1m2/2\u001b[0m \u001b[32m━━━━━━━━━━━━━━━━━━━━\u001b[0m\u001b[37m\u001b[0m \u001b[1m0s\u001b[0m 174ms/step\n",
      "Accuracy Score: 0.9111111111111111\n",
      "\n",
      "Confusion Matrix: \n",
      "[[22  1]\n",
      " [ 3 19]]\n",
      "\n",
      "Classification Report: \n",
      "              precision    recall  f1-score   support\n",
      "\n",
      "           0       0.88      0.96      0.92        23\n",
      "           1       0.95      0.86      0.90        22\n",
      "\n",
      "    accuracy                           0.91        45\n",
      "   macro avg       0.92      0.91      0.91        45\n",
      "weighted avg       0.91      0.91      0.91        45\n",
      "\n"
     ]
    }
   ],
   "source": [
    "from sklearn.metrics import accuracy_score, confusion_matrix, classification_report\n",
    "\n",
    "predictions_prob = model.predict(X_test)\n",
    "predictions = (predictions_prob > 0.5).astype(int)\n",
    "\n",
    "print(f\"Accuracy Score: {accuracy_score(y_test, predictions)}\")\n",
    "print(f\"\\nConfusion Matrix: \\n{confusion_matrix(y_test, predictions)}\")\n",
    "print(f\"\\nClassification Report: \\n{classification_report(y_test, predictions)}\")"
   ]
  },
  {
   "cell_type": "code",
   "execution_count": 13,
   "id": "b2069e8a",
   "metadata": {},
   "outputs": [
    {
     "data": {
      "image/png": "[encoded data removed]",
      "text/plain": [
       "<Figure size 640x480 with 1 Axes>"
      ]
     },
     "metadata": {},
     "output_type": "display_data"
    }
   ],
   "source": [
    "import matplotlib.pyplot as plt\n",
    "\n",
    "plt.plot(history.history['loss'])\n",
    "plt.title(\"Training Loss (Binary Crossentropy)\")\n",
    "plt.xlabel(\"Epoch\")\n",
    "plt.ylabel(\"Loss\")\n",
    "plt.show()"
   ]
  },
  {
   "cell_type": "code",
   "execution_count": 14,
   "id": "99c0585a",
   "metadata": {},
   "outputs": [],
   "source": [
    "result_dict = {\n",
    "    0: \"Negative\",\n",
    "    1: \"Positive\"\n",
    "}"
   ]
  },
  {
   "cell_type": "code",
   "execution_count": 24,
   "id": "30deb51a",
   "metadata": {},
   "outputs": [
    {
     "name": "stdout",
     "output_type": "stream",
     "text": [
      "\u001b[1m1/1\u001b[0m \u001b[32m━━━━━━━━━━━━━━━━━━━━\u001b[0m\u001b[37m\u001b[0m \u001b[1m0s\u001b[0m 75ms/step\n",
      "Predicted sentiment for give Sentence has : Negative response\n"
     ]
    }
   ],
   "source": [
    "sample_text = [\"This movie was terrible and dull.\"]\n",
    "sample_tokens = [spacy_tokenizer(sentence) for sentence in sample_text]\n",
    "sample_seq = text_to_sequence(sample_tokens, vocab_dir)\n",
    "sample_pad = pad_sequences(sample_seq, padding='post', maxlen=padded_text.shape[1])\n",
    "\n",
    "pred = model.predict(sample_pad)\n",
    "result_pred = (pred > 0.5).astype(int)\n",
    "print(f\"Predicted sentiment for give Sentence has : {result_dict[result_pred.tolist()[0][0]]} response\")"
   ]
  },
  {
   "cell_type": "code",
   "execution_count": 25,
   "id": "4a8fb684",
   "metadata": {},
   "outputs": [
    {
     "data": {
      "text/html": [
       "<pre style=\"white-space:pre;overflow-x:auto;line-height:normal;font-family:Menlo,'DejaVu Sans Mono',consolas,'Courier New',monospace\"><span style=\"font-weight: bold\">Model: \"sequential\"</span>\n",
       "</pre>\n"
      ],
      "text/plain": [
       "\u001b[1mModel: \"sequential\"\u001b[0m\n"
      ]
     },
     "metadata": {},
     "output_type": "display_data"
    },
    {
     "data": {
      "text/html": [
       "<pre style=\"white-space:pre;overflow-x:auto;line-height:normal;font-family:Menlo,'DejaVu Sans Mono',consolas,'Courier New',monospace\">┏━━━━━━━━━━━━━━━━━━━━━━━━━━━━━━━━━┳━━━━━━━━━━━━━━━━━━━━━━━━┳━━━━━━━━━━━━━━━┓\n",
       "┃<span style=\"font-weight: bold\"> Layer (type)                    </span>┃<span style=\"font-weight: bold\"> Output Shape           </span>┃<span style=\"font-weight: bold\">       Param # </span>┃\n",
       "┡━━━━━━━━━━━━━━━━━━━━━━━━━━━━━━━━━╇━━━━━━━━━━━━━━━━━━━━━━━━╇━━━━━━━━━━━━━━━┩\n",
       "│ embedding (<span style=\"color: #0087ff; text-decoration-color: #0087ff\">Embedding</span>)           │ (<span style=\"color: #00d7ff; text-decoration-color: #00d7ff\">None</span>, <span style=\"color: #00af00; text-decoration-color: #00af00\">6</span>, <span style=\"color: #00af00; text-decoration-color: #00af00\">100</span>)         │        <span style=\"color: #00af00; text-decoration-color: #00af00\">26,000</span> │\n",
       "├─────────────────────────────────┼────────────────────────┼───────────────┤\n",
       "│ flatten (<span style=\"color: #0087ff; text-decoration-color: #0087ff\">Flatten</span>)               │ (<span style=\"color: #00d7ff; text-decoration-color: #00d7ff\">None</span>, <span style=\"color: #00af00; text-decoration-color: #00af00\">600</span>)            │             <span style=\"color: #00af00; text-decoration-color: #00af00\">0</span> │\n",
       "├─────────────────────────────────┼────────────────────────┼───────────────┤\n",
       "│ dense (<span style=\"color: #0087ff; text-decoration-color: #0087ff\">Dense</span>)                   │ (<span style=\"color: #00d7ff; text-decoration-color: #00d7ff\">None</span>, <span style=\"color: #00af00; text-decoration-color: #00af00\">128</span>)            │        <span style=\"color: #00af00; text-decoration-color: #00af00\">76,928</span> │\n",
       "├─────────────────────────────────┼────────────────────────┼───────────────┤\n",
       "│ dropout (<span style=\"color: #0087ff; text-decoration-color: #0087ff\">Dropout</span>)               │ (<span style=\"color: #00d7ff; text-decoration-color: #00d7ff\">None</span>, <span style=\"color: #00af00; text-decoration-color: #00af00\">128</span>)            │             <span style=\"color: #00af00; text-decoration-color: #00af00\">0</span> │\n",
       "├─────────────────────────────────┼────────────────────────┼───────────────┤\n",
       "│ dense_1 (<span style=\"color: #0087ff; text-decoration-color: #0087ff\">Dense</span>)                 │ (<span style=\"color: #00d7ff; text-decoration-color: #00d7ff\">None</span>, <span style=\"color: #00af00; text-decoration-color: #00af00\">64</span>)             │         <span style=\"color: #00af00; text-decoration-color: #00af00\">8,256</span> │\n",
       "├─────────────────────────────────┼────────────────────────┼───────────────┤\n",
       "│ dropout_1 (<span style=\"color: #0087ff; text-decoration-color: #0087ff\">Dropout</span>)             │ (<span style=\"color: #00d7ff; text-decoration-color: #00d7ff\">None</span>, <span style=\"color: #00af00; text-decoration-color: #00af00\">64</span>)             │             <span style=\"color: #00af00; text-decoration-color: #00af00\">0</span> │\n",
       "├─────────────────────────────────┼────────────────────────┼───────────────┤\n",
       "│ dense_2 (<span style=\"color: #0087ff; text-decoration-color: #0087ff\">Dense</span>)                 │ (<span style=\"color: #00d7ff; text-decoration-color: #00d7ff\">None</span>, <span style=\"color: #00af00; text-decoration-color: #00af00\">32</span>)             │         <span style=\"color: #00af00; text-decoration-color: #00af00\">2,080</span> │\n",
       "├─────────────────────────────────┼────────────────────────┼───────────────┤\n",
       "│ dense_3 (<span style=\"color: #0087ff; text-decoration-color: #0087ff\">Dense</span>)                 │ (<span style=\"color: #00d7ff; text-decoration-color: #00d7ff\">None</span>, <span style=\"color: #00af00; text-decoration-color: #00af00\">1</span>)              │            <span style=\"color: #00af00; text-decoration-color: #00af00\">33</span> │\n",
       "└─────────────────────────────────┴────────────────────────┴───────────────┘\n",
       "</pre>\n"
      ],
      "text/plain": [
       "┏━━━━━━━━━━━━━━━━━━━━━━━━━━━━━━━━━┳━━━━━━━━━━━━━━━━━━━━━━━━┳━━━━━━━━━━━━━━━┓\n",
       "┃\u001b[1m \u001b[0m\u001b[1mLayer (type)                   \u001b[0m\u001b[1m \u001b[0m┃\u001b[1m \u001b[0m\u001b[1mOutput Shape          \u001b[0m\u001b[1m \u001b[0m┃\u001b[1m \u001b[0m\u001b[1m      Param #\u001b[0m\u001b[1m \u001b[0m┃\n",
       "┡━━━━━━━━━━━━━━━━━━━━━━━━━━━━━━━━━╇━━━━━━━━━━━━━━━━━━━━━━━━╇━━━━━━━━━━━━━━━┩\n",
       "│ embedding (\u001b[38;5;33mEmbedding\u001b[0m)           │ (\u001b[38;5;45mNone\u001b[0m, \u001b[38;5;34m6\u001b[0m, \u001b[38;5;34m100\u001b[0m)         │        \u001b[38;5;34m26,000\u001b[0m │\n",
       "├─────────────────────────────────┼────────────────────────┼───────────────┤\n",
       "│ flatten (\u001b[38;5;33mFlatten\u001b[0m)               │ (\u001b[38;5;45mNone\u001b[0m, \u001b[38;5;34m600\u001b[0m)            │             \u001b[38;5;34m0\u001b[0m │\n",
       "├─────────────────────────────────┼────────────────────────┼───────────────┤\n",
       "│ dense (\u001b[38;5;33mDense\u001b[0m)                   │ (\u001b[38;5;45mNone\u001b[0m, \u001b[38;5;34m128\u001b[0m)            │        \u001b[38;5;34m76,928\u001b[0m │\n",
       "├─────────────────────────────────┼────────────────────────┼───────────────┤\n",
       "│ dropout (\u001b[38;5;33mDropout\u001b[0m)               │ (\u001b[38;5;45mNone\u001b[0m, \u001b[38;5;34m128\u001b[0m)            │             \u001b[38;5;34m0\u001b[0m │\n",
       "├─────────────────────────────────┼────────────────────────┼───────────────┤\n",
       "│ dense_1 (\u001b[38;5;33mDense\u001b[0m)                 │ (\u001b[38;5;45mNone\u001b[0m, \u001b[38;5;34m64\u001b[0m)             │         \u001b[38;5;34m8,256\u001b[0m │\n",
       "├─────────────────────────────────┼────────────────────────┼───────────────┤\n",
       "│ dropout_1 (\u001b[38;5;33mDropout\u001b[0m)             │ (\u001b[38;5;45mNone\u001b[0m, \u001b[38;5;34m64\u001b[0m)             │             \u001b[38;5;34m0\u001b[0m │\n",
       "├─────────────────────────────────┼────────────────────────┼───────────────┤\n",
       "│ dense_2 (\u001b[38;5;33mDense\u001b[0m)                 │ (\u001b[38;5;45mNone\u001b[0m, \u001b[38;5;34m32\u001b[0m)             │         \u001b[38;5;34m2,080\u001b[0m │\n",
       "├─────────────────────────────────┼────────────────────────┼───────────────┤\n",
       "│ dense_3 (\u001b[38;5;33mDense\u001b[0m)                 │ (\u001b[38;5;45mNone\u001b[0m, \u001b[38;5;34m1\u001b[0m)              │            \u001b[38;5;34m33\u001b[0m │\n",
       "└─────────────────────────────────┴────────────────────────┴───────────────┘\n"
      ]
     },
     "metadata": {},
     "output_type": "display_data"
    },
    {
     "data": {
      "text/html": [
       "<pre style=\"white-space:pre;overflow-x:auto;line-height:normal;font-family:Menlo,'DejaVu Sans Mono',consolas,'Courier New',monospace\"><span style=\"font-weight: bold\"> Total params: </span><span style=\"color: #00af00; text-decoration-color: #00af00\">339,893</span> (1.30 MB)\n",
       "</pre>\n"
      ],
      "text/plain": [
       "\u001b[1m Total params: \u001b[0m\u001b[38;5;34m339,893\u001b[0m (1.30 MB)\n"
      ]
     },
     "metadata": {},
     "output_type": "display_data"
    },
    {
     "data": {
      "text/html": [
       "<pre style=\"white-space:pre;overflow-x:auto;line-height:normal;font-family:Menlo,'DejaVu Sans Mono',consolas,'Courier New',monospace\"><span style=\"font-weight: bold\"> Trainable params: </span><span style=\"color: #00af00; text-decoration-color: #00af00\">113,297</span> (442.57 KB)\n",
       "</pre>\n"
      ],
      "text/plain": [
       "\u001b[1m Trainable params: \u001b[0m\u001b[38;5;34m113,297\u001b[0m (442.57 KB)\n"
      ]
     },
     "metadata": {},
     "output_type": "display_data"
    },
    {
     "data": {
      "text/html": [
       "<pre style=\"white-space:pre;overflow-x:auto;line-height:normal;font-family:Menlo,'DejaVu Sans Mono',consolas,'Courier New',monospace\"><span style=\"font-weight: bold\"> Non-trainable params: </span><span style=\"color: #00af00; text-decoration-color: #00af00\">0</span> (0.00 B)\n",
       "</pre>\n"
      ],
      "text/plain": [
       "\u001b[1m Non-trainable params: \u001b[0m\u001b[38;5;34m0\u001b[0m (0.00 B)\n"
      ]
     },
     "metadata": {},
     "output_type": "display_data"
    },
    {
     "data": {
      "text/html": [
       "<pre style=\"white-space:pre;overflow-x:auto;line-height:normal;font-family:Menlo,'DejaVu Sans Mono',consolas,'Courier New',monospace\"><span style=\"font-weight: bold\"> Optimizer params: </span><span style=\"color: #00af00; text-decoration-color: #00af00\">226,596</span> (885.14 KB)\n",
       "</pre>\n"
      ],
      "text/plain": [
       "\u001b[1m Optimizer params: \u001b[0m\u001b[38;5;34m226,596\u001b[0m (885.14 KB)\n"
      ]
     },
     "metadata": {},
     "output_type": "display_data"
    }
   ],
   "source": [
    "model.summary()"
   ]
  },
  {
   "cell_type": "markdown",
   "id": "f229419f",
   "metadata": {},
   "source": [
    "## <b>Multi-Class Classification Model</b>\n",
    "\n",
    "```python\n",
    "vocab_size = len(vocab_dir)\n",
    "embedding_dim = 100\n",
    "num_classes = len(set(target))\n",
    "\n",
    "model = Sequential([\n",
    "    Embedding(input_dim=vocab_size, output_dim=embedding_dim, mask_zero=True),\n",
    "    Flatten(),\n",
    "    Dense(128, activation='relu'),\n",
    "    Dropout(0.5),\n",
    "    Dense(num_classes, activation='softmax')\n",
    "])\n",
    "\n",
    "model.compile(\n",
    "    loss='sparse_categorical_crossentropy',\n",
    "    optimizer='adam',\n",
    "    metrics=['accuracy', AUC()]\n",
    ")\n",
    "\n",
    "history = model.fit(\n",
    "    X_train, y_train,\n",
    "    epochs=10,\n",
    "    batch_size=32,\n",
    "    validation_split=0.2,\n",
    "    verbose=0,\n",
    "    callbacks=[TqdmCallback(verbose=1)]\n",
    ")\n",
    "\n",
    "result_dict = {\n",
    "    0: \"Negative\",\n",
    "    1: \"Neutral\",\n",
    "    2: \"Positive\"\n",
    "}\n",
    "\n",
    "sample_text = [\"This movie was terrible and dull.\"]\n",
    "sample_tokens = [spacy_tokenizer(sentence) for sentence in sample_text]\n",
    "sample_seq = text_to_sequence(sample_tokens, vocab_dir)\n",
    "sample_pad = pad_sequences(sample_seq, padding='post', maxlen=padded_text.shape[1])\n",
    "\n",
    "pred = model.predict(sample_pad)\n",
    "print(f\"Predicted sentiment  for give Sentence has : {result_dict[pred.argmax(axis=1)[0]]} response\")\n",
    "```"
   ]
  },
  {
   "cell_type": "markdown",
   "id": "6569b9a6",
   "metadata": {},
   "source": [
    "## <b>LSTM Neural Network Model</b>\n",
    "\n",
    "Perfect — you’ve already done a lot of the preprocessing work! You’ve tokenized your text, created a vocabulary, converted text to sequences, and padded them. Now, let’s complete the pipeline and **build and train an LSTM neural network** for binary classification (sentiment analysis).\n",
    "\n",
    "Here’s the full example continuing from where you left off:\n",
    "\n",
    "---\n",
    "\n",
    "### ✅ Full LSTM Classification Example\n",
    "\n",
    "```python\n",
    "import numpy as np\n",
    "from tensorflow.keras.models import Sequential\n",
    "from tensorflow.keras.layers import Embedding, LSTM, Dense, Dropout\n",
    "from tensorflow.keras.optimizers import Adam\n",
    "from sklearn.model_selection import train_test_split\n",
    "\n",
    "# Assuming you've already created:\n",
    "# padded_text = ...\n",
    "# target = df['labels'].values\n",
    "\n",
    "# --- Split the data ---\n",
    "X_train, X_test, y_train, y_test = train_test_split(padded_text, target, test_size=0.2, random_state=42)\n",
    "\n",
    "# --- Define parameters ---\n",
    "vocab_size = len(vocab_dir)      # total vocabulary size\n",
    "embedding_dim = 64               # can tune this (32–128 common)\n",
    "lstm_units = 64\n",
    "max_len = padded_text.shape[1]   # sequence length\n",
    "\n",
    "# --- Build the model ---\n",
    "model = Sequential([\n",
    "    Embedding(input_dim=vocab_size, output_dim=embedding_dim, input_length=max_len),\n",
    "    LSTM(lstm_units, return_sequences=False, dropout=0.2, recurrent_dropout=0.2),\n",
    "    Dense(32, activation='relu'),\n",
    "    Dropout(0.3),\n",
    "    Dense(1, activation='sigmoid')  # Binary classification\n",
    "])\n",
    "\n",
    "# --- Compile the model ---\n",
    "model.compile(\n",
    "    loss='binary_crossentropy',\n",
    "    optimizer=Adam(learning_rate=0.001),\n",
    "    metrics=['accuracy']\n",
    ")\n",
    "\n",
    "# --- Train the model ---\n",
    "history = model.fit(\n",
    "    X_train, y_train,\n",
    "    validation_data=(X_test, y_test),\n",
    "    epochs=10,\n",
    "    batch_size=2,\n",
    "    verbose=1\n",
    ")\n",
    "\n",
    "# --- Evaluate ---\n",
    "loss, acc = model.evaluate(X_test, y_test, verbose=0)\n",
    "print(f\"Test Accuracy: {acc:.4f}\")\n",
    "```\n",
    "\n",
    "---\n",
    "\n",
    "### ✅ Notes:\n",
    "\n",
    "* `Embedding` layer maps your integer-encoded words to dense vectors.\n",
    "* `LSTM` captures sequential dependencies.\n",
    "* The last `Dense(1, activation='sigmoid')` outputs a probability (0–1) for sentiment.\n",
    "* You can adjust:\n",
    "\n",
    "  * `embedding_dim` for richer representations\n",
    "  * `lstm_units` for model capacity\n",
    "  * `dropout` to prevent overfitting\n",
    "\n",
    "---\n",
    "\n",
    "### ✅ Example Prediction\n",
    "\n",
    "After training, you can predict new reviews like this:\n",
    "\n",
    "```python\n",
    "sample_text = [\"This movie was amazing!\"]\n",
    "sample_tokens = [spacy_tokenizer(sentence) for sentence in sample_text]\n",
    "sample_seq = text_to_sequence(sample_tokens, vocab_dir)\n",
    "sample_pad = pad_sequences(sample_seq, maxlen=max_len, padding='post')\n",
    "\n",
    "pred = model.predict(sample_pad)\n",
    "print(\"Positive\" if pred[0][0] > 0.5 else \"Negative\", pred[0][0])\n",
    "```\n",
    "\n",
    "---"
   ]
  },
  {
   "cell_type": "markdown",
   "id": "2fa0d286",
   "metadata": {},
   "source": [
    "## <b>Multi-class LSTM Model</b>\n",
    "\n",
    "### <b> Step 1: Setup </b>\n",
    "\n",
    "We’ll assume you already have:\n",
    "\n",
    "```python\n",
    "texts = df['review'].values\n",
    "target = df['labels'].values\n",
    "```\n",
    "\n",
    "…and the tokenization + padding steps you shared earlier:\n",
    "\n",
    "```python\n",
    "tokens = [spacy_tokenizer(sentence) for sentence in texts]\n",
    "all_words = sorted(set(word for item in tokens for word in item))\n",
    "vocab_dir = {word: idx+2 for idx, word in enumerate(all_words)}\n",
    "vocab_dir['<PAD>'] = 0\n",
    "vocab_dir['<UNK>'] = 1\n",
    "\n",
    "def text_to_sequence(token_bank, vocab_bank):\n",
    "    return [[vocab_bank.get(word, vocab_bank['<UNK>']) for word in item] for item in token_bank]\n",
    "\n",
    "from tensorflow.keras.preprocessing.sequence import pad_sequences\n",
    "text_sequence = text_to_sequence(tokens, vocab_dir)\n",
    "padded_text = pad_sequences(text_sequence, padding='post')\n",
    "```\n",
    "\n",
    "---\n",
    "\n",
    "### <b>Step 2: Train–Test Split</b>\n",
    "\n",
    "```python\n",
    "from sklearn.model_selection import train_test_split\n",
    "\n",
    "X_train, X_test, y_train, y_test = train_test_split(\n",
    "    padded_text, target, test_size=0.2, random_state=42\n",
    ")\n",
    "```\n",
    "\n",
    "---\n",
    "\n",
    "### <b>Step 3: Define Model with LSTM</b>\n",
    "\n",
    "```python\n",
    "import tensorflow as tf\n",
    "\n",
    "vocab_size = len(vocab_dir)       # total number of unique tokens\n",
    "embedding_dim = 100               # can tune this\n",
    "lstm_units = 64                   # can also tune this\n",
    "num_classes = len(set(target))    # in your example: 3 (negative, neutral, positive)\n",
    "\n",
    "model = tf.keras.Sequential([\n",
    "    tf.keras.layers.Embedding(\n",
    "        input_dim=vocab_size,\n",
    "        output_dim=embedding_dim,\n",
    "        mask_zero=True  # ignore <PAD>\n",
    "    ),\n",
    "    tf.keras.layers.Bidirectional(tf.keras.layers.LSTM(lstm_units, dropout=0.3, recurrent_dropout=0.3)),\n",
    "    tf.keras.layers.Dense(64, activation='relu'),\n",
    "    tf.keras.layers.Dropout(0.5),\n",
    "    tf.keras.layers.Dense(num_classes, activation='softmax')\n",
    "])\n",
    "\n",
    "model.summary()\n",
    "```\n",
    "\n",
    "---\n",
    "\n",
    "### <b>Step 4: Compile and Train</b>\n",
    "\n",
    "```python\n",
    "model.compile(\n",
    "    loss='sparse_categorical_crossentropy',\n",
    "    optimizer='adam',\n",
    "    metrics=['accuracy']\n",
    ")\n",
    "\n",
    "history = model.fit(\n",
    "    X_train, y_train,\n",
    "    epochs=10,\n",
    "    batch_size=32,\n",
    "    validation_split=0.2,\n",
    "    verbose=1\n",
    ")\n",
    "```\n",
    "\n",
    "---\n",
    "\n",
    "### <b>Step 5: Evaluate</b>\n",
    "\n",
    "```python\n",
    "loss, acc = model.evaluate(X_test, y_test)\n",
    "print(f\"Test Accuracy: {acc:.3f}\")\n",
    "```\n",
    "\n",
    "---\n",
    "\n",
    "### <b>Step 6: Example Prediction</b>\n",
    "\n",
    "```python\n",
    "sample_text = [\"The film was outstanding and emotional.\"]\n",
    "sample_tokens = [spacy_tokenizer(sentence) for sentence in sample_text]\n",
    "sample_seq = text_to_sequence(sample_tokens, vocab_dir)\n",
    "sample_pad = pad_sequences(sample_seq, padding='post', maxlen=padded_text.shape[1])\n",
    "\n",
    "pred = model.predict(sample_pad)\n",
    "print(\"Predicted sentiment label:\", pred.argmax(axis=1)[0])\n",
    "```\n",
    "\n",
    "---"
   ]
  },
  {
   "cell_type": "markdown",
   "id": "5eef1b56",
   "metadata": {},
   "source": [
    "## <b>Pre-Trained Embedding</b>\n",
    "\n",
    "Perfect! Using **pre-trained embeddings** like **GloVe** or **Word2Vec** often improves performance because the embeddings already capture semantic meaning from large corpora. Here’s how you can modify your LSTM model to use pre-trained embeddings.\n",
    "\n",
    "---\n",
    "\n",
    "### 1️⃣ Load Pre-trained Embeddings (GloVe Example)\n",
    "\n",
    "```python\n",
    "import numpy as np\n",
    "\n",
    "embedding_index = {}\n",
    "# Download GloVe (e.g., glove.6B.100d.txt) from https://nlp.stanford.edu/projects/glove/\n",
    "with open(\"glove.6B.100d.txt\", encoding=\"utf8\") as f:\n",
    "    for line in f:\n",
    "        values = line.split()\n",
    "        word = values[0]\n",
    "        vector = np.asarray(values[1:], dtype='float32')\n",
    "        embedding_index[word] = vector\n",
    "\n",
    "print(f\"Found {len(embedding_index)} word vectors.\")\n",
    "```\n",
    "\n",
    "---\n",
    "\n",
    "### 2️⃣ Create an Embedding Matrix\n",
    "\n",
    "```python\n",
    "embedding_dim = 100  # Depends on the GloVe file you choose\n",
    "\n",
    "vocab_size = len(vocab_dir)\n",
    "embedding_matrix = np.zeros((vocab_size, embedding_dim))\n",
    "\n",
    "for word, idx in vocab_dir.items():\n",
    "    if word in embedding_index:\n",
    "        embedding_matrix[idx] = embedding_index[word]\n",
    "    else:\n",
    "        embedding_matrix[idx] = np.random.normal(scale=0.6, size=(embedding_dim,))  # Random init for unknown words\n",
    "```\n",
    "\n",
    "---\n",
    "\n",
    "### 3️⃣ Build LSTM Model with Pre-trained Embeddings\n",
    "\n",
    "```python\n",
    "from tensorflow.keras.models import Sequential\n",
    "from tensorflow.keras.layers import Embedding, LSTM, Dense, Dropout\n",
    "from tensorflow.keras.optimizers import Adam\n",
    "\n",
    "model = Sequential([\n",
    "    Embedding(input_dim=vocab_size,\n",
    "              output_dim=embedding_dim,\n",
    "              weights=[embedding_matrix],\n",
    "              input_length=padded_text.shape[1],\n",
    "              trainable=False),  # Set True if you want to fine-tune\n",
    "    LSTM(64, dropout=0.2, recurrent_dropout=0.2),\n",
    "    Dense(32, activation='relu'),\n",
    "    Dropout(0.3),\n",
    "    Dense(1, activation='sigmoid')\n",
    "])\n",
    "\n",
    "model.compile(loss='binary_crossentropy', optimizer=Adam(0.001), metrics=['accuracy'])\n",
    "model.summary()\n",
    "```\n",
    "\n",
    "---\n",
    "\n",
    "### 4️⃣ Train the Model\n",
    "\n",
    "```python\n",
    "history = model.fit(X_train, y_train,\n",
    "                    validation_data=(X_test, y_test),\n",
    "                    epochs=10,\n",
    "                    batch_size=2)\n",
    "```\n",
    "\n",
    "---\n",
    "\n",
    "### ✅ Notes:\n",
    "\n",
    "* `trainable=False` keeps the GloVe embeddings fixed; set `True` to fine-tune.\n",
    "* Pre-trained embeddings usually **improve accuracy**, especially with small datasets.\n",
    "* You can try different GloVe sizes: `50d`, `100d`, `200d`, `300d`.\n",
    "\n",
    "---\n",
    "\n",
    "If you want, I can also show a **version using `trainable=True` with fine-tuning** which often boosts performance even more for your small dataset.\n",
    "\n",
    "---"
   ]
  },
  {
   "cell_type": "markdown",
   "id": "f874a818",
   "metadata": {},
   "source": []
  }
 ],
 "metadata": {
  "kernelspec": {
   "display_name": "virtual",
   "language": "python",
   "name": "python3"
  },
  "language_info": {
   "codemirror_mode": {
    "name": "ipython",
    "version": 3
   },
   "file_extension": ".py",
   "mimetype": "text/x-python",
   "name": "python",
   "nbconvert_exporter": "python",
   "pygments_lexer": "ipython3",
   "version": "3.10.0"
  }
 },
 "nbformat": 4,
 "nbformat_minor": 5
}
